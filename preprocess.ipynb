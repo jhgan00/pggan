{
 "cells": [
  {
   "cell_type": "markdown",
   "metadata": {},
   "source": [
    "# 데이터 정리"
   ]
  },
  {
   "cell_type": "code",
   "execution_count": null,
   "metadata": {},
   "outputs": [],
   "source": [
    "import boto3\n",
    "s3 = boto3.resource('s3')\n",
    "bucket = \"sagemaker-jhgan-workspace\"\n",
    "my_bucket = s3.Bucket(bucket)"
   ]
  },
  {
   "cell_type": "code",
   "execution_count": null,
   "metadata": {},
   "outputs": [],
   "source": [
    "for obj in my_bucket.objects.filter(Prefix=\"train/img\"):\n",
    "    print(obj.key)\n",
    "    fname = obj.key.split(\"/\")[1]\n",
    "    copy_source = {\n",
    "        \"Bucket\":bucket,\n",
    "        \"Key\":obj.key\n",
    "    }\n",
    "    s3.meta.client.copy(copy_source, bucket, f\"NII/{fname}\")"
   ]
  },
  {
   "cell_type": "code",
   "execution_count": null,
   "metadata": {},
   "outputs": [],
   "source": [
    "for obj in my_bucket.objects.filter(Prefix=\"test_noGT\"):\n",
    "    print(obj.key)\n",
    "    fname = obj.key.split(\"/\")[1]\n",
    "    copy_source = {\n",
    "        \"Bucket\":bucket,\n",
    "        \"Key\":obj.key\n",
    "    }\n",
    "    s3.meta.client.copy(copy_source, bucket, f\"NII/test_{fname}\")"
   ]
  },
  {
   "cell_type": "markdown",
   "metadata": {},
   "source": [
    "# 전처리"
   ]
  },
  {
   "cell_type": "markdown",
   "metadata": {},
   "source": [
    "- 실행하기 전에 도커에 이미지 푸시해주자\n",
    "\n",
    "```bash\n",
    "aws ecr get-login-password --region us-east-2 | docker login --username AWS --password-stdin 349048005035.dkr.ecr.us-east-2.amazonaws.com\n",
    "docker tag <image name> <repository name>\n",
    "docker push <repository name>\n",
    "```\n"
   ]
  },
  {
   "cell_type": "code",
   "execution_count": 68,
   "metadata": {},
   "outputs": [],
   "source": [
    "import boto3\n",
    "from sagemaker.processing import Processor, ProcessingInput, ProcessingOutput\n",
    "from sagemaker import get_execution_role\n",
    "from sagemaker.session import Session\n",
    "s3 = boto3.resource('s3')\n",
    "bucket = \"sagemaker-jhgan-workspace\"\n",
    "my_bucket = s3.Bucket(bucket)"
   ]
  },
  {
   "cell_type": "code",
   "execution_count": 69,
   "metadata": {},
   "outputs": [],
   "source": [
    "inputObject = ProcessingInput(\n",
    "        source=f's3://sagemaker-jhgan-workspace/sample',\n",
    "        destination=f'/opt/ml/processing/input_data'\n",
    ")"
   ]
  },
  {
   "cell_type": "code",
   "execution_count": 70,
   "metadata": {},
   "outputs": [],
   "source": [
    "script_processor = Processor(\n",
    "    image_uri = \"349048005035.dkr.ecr.us-east-2.amazonaws.com/pggan:latest\",\n",
    "    role = get_execution_role(),\n",
    "    instance_count=1,\n",
    "    instance_type='ml.m5.4xlarge',\n",
    "    entrypoint = [\"python\", \"/opt/ml/code/dataset_tool.py\", \"create_from_nii\", '/opt/ml/processing/processed_data', '/opt/ml/processing/input_data'],\n",
    "    sagemaker_session=Session(default_bucket = \"sagemaker-jhgan-workspace\")\n",
    ")"
   ]
  },
  {
   "cell_type": "code",
   "execution_count": 72,
   "metadata": {},
   "outputs": [
    {
     "name": "stdout",
     "output_type": "stream",
     "text": [
      "\n",
      "Job Name:  nii-to-tfrecords-3\n",
      "Inputs:  [{'InputName': 'input-1', 'S3Input': {'S3Uri': 's3://sagemaker-jhgan-workspace/sample', 'LocalPath': '/opt/ml/processing/input_data', 'S3DataType': 'S3Prefix', 'S3InputMode': 'File', 'S3DataDistributionType': 'FullyReplicated', 'S3CompressionType': 'None'}}]\n",
      "Outputs:  [{'OutputName': 'output-1', 'S3Output': {'S3Uri': 's3://sagemaker-jhgan-workspace/nii-to-tfrecords-3/output/output-1', 'LocalPath': '/opt/ml/processing/processed_data', 'S3UploadMode': 'EndOfJob'}}]\n",
      "....................\u001b[34mLoading images from \"/opt/ml/processing/input_data\"\u001b[0m\n",
      "\u001b[34mCreating dataset \"/opt/ml/processing/processed_data\"\u001b[0m\n",
      "\u001b[34m/usr/local/lib/python3.5/dist-packages/tensorflow/python/framework/dtypes.py:517: FutureWarning: Passing (type, 1) or '1type' as a synonym of type is deprecated; in a future version of numpy, it will be understood as (type, (1,)) / '(1,)type'.\n",
      "  _np_qint8 = np.dtype([(\"qint8\", np.int8, 1)])\u001b[0m\n",
      "\u001b[34m/usr/local/lib/python3.5/dist-packages/tensorflow/python/framework/dtypes.py:518: FutureWarning: Passing (type, 1) or '1type' as a synonym of type is deprecated; in a future version of numpy, it will be understood as (type, (1,)) / '(1,)type'.\u001b[0m\n",
      "\u001b[34m0 / 3#01510 / 3#01520 / 3#01530 / 3#01540 / 3#01550 / 3#01560 / 3#01570 / 3#01580 / 3#01590 / 3#015100 / 3#015110 / 3#015120 / 3#015130 / 3#015140 / 3#015150 / 3#015160 / 3#015170 / 3#015180 / 3#015190 / 3#015200 / 3#015210 / 3#015220 / 3#015230 / 3#015240 / 3#015250 / 3#015260 / 3#015270 / 3#015280 / 3#015290 / 3#015300 / 3#015310 / 3#015320 / 3#015330 / 3#015340 / 3#015350 / 3#015360 / 3#015370 / 3#015380 / 3#015390 / 3#015400 / 3#015410 / 3#015420 / 3#015430 / 3#015440 / 3#015450 / 3#015460 / 3#015470 / 3#015480 / 3#015490 / 3#015500 / 3#015510 / 3#015520 / 3#015530 / 3#015540 / 3#015550 / 3#015560 / 3#015570 / 3#015580 / 3#015590 / 3#015600 / 3#015610 / 3#015620 / 3#015630 / 3#015640 / 3#015650 / 3#015660 / 3#015670 / 3#015680 / 3#015690 / 3#015700 / 3#015710 / 3#015720 / 3#015730 / 3#015740 / 3#015750 / 3#015760 / 3#015770 / 3#015780 / 3#015790 / 3#015800 / 3#015810 / 3#015820 / 3#015830 / 3#015840 / 3#015850 / 3#015860 / 3#015870 / 3#015880 / 3#015890 / 3#015900 / 3#015910 / 3#015920 / 3#015930 / 3#015940 / 3#015950 / 3#015960 / 3#015970 / 3#015980 / 3#015990 / 3#0151000 / 3#0151010 / 3#0151020 / 3#0151030 / 3#0151040 / 3#0151050 / 3#0151060 / 3#0151070 / 3#0151080 / 3#0151090 / 3#0151100 / 3#0151110 / 3#0151120 / 3#0151130 / 3#0151140 / 3#0151150 / 3#0151160 / 3#0151170 / 3#0151180 / 3#0151190 / 3#0151200 / 3#0151210 / 3#0151220 / 3#0151230 / 3#0151240 / 3#0151250 / 3#0151260 / 3#015Flushing data...                        #015                                        #015Added 1261 images.\n",
      "  _np_quint8 = np.dtype([(\"quint8\", np.uint8, 1)])\u001b[0m\n",
      "\u001b[34m/usr/local/lib/python3.5/dist-packages/tensorflow/python/framework/dtypes.py:519: FutureWarning: Passing (type, 1) or '1type' as a synonym of type is deprecated; in a future version of numpy, it will be understood as (type, (1,)) / '(1,)type'.\n",
      "  _np_qint16 = np.dtype([(\"qint16\", np.int16, 1)])\u001b[0m\n",
      "\u001b[34m/usr/local/lib/python3.5/dist-packages/tensorflow/python/framework/dtypes.py:520: FutureWarning: Passing (type, 1) or '1type' as a synonym of type is deprecated; in a future version of numpy, it will be understood as (type, (1,)) / '(1,)type'.\n",
      "  _np_quint16 = np.dtype([(\"quint16\", np.uint16, 1)])\u001b[0m\n",
      "\u001b[34m/usr/local/lib/python3.5/dist-packages/tensorflow/python/framework/dtypes.py:521: FutureWarning: Passing (type, 1) or '1type' as a synonym of type is deprecated; in a future version of numpy, it will be understood as (type, (1,)) / '(1,)type'.\n",
      "  _np_qint32 = np.dtype([(\"qint32\", np.int32, 1)])\u001b[0m\n",
      "\u001b[34m/usr/local/lib/python3.5/dist-packages/tensorflow/python/framework/dtypes.py:526: FutureWarning: Passing (type, 1) or '1type' as a synonym of type is deprecated; in a future version of numpy, it will be understood as (type, (1,)) / '(1,)type'.\n",
      "  np_resource = np.dtype([(\"resource\", np.ubyte, 1)])\u001b[0m\n",
      "\u001b[34m/usr/local/lib/python3.5/dist-packages/h5py/__init__.py:36: FutureWarning: Conversion of the second argument of issubdtype from `float` to `np.floating` is deprecated. In future, it will be treated as `np.float64 == np.dtype(float).type`.\n",
      "  from ._conv import register_converters as _register_converters\u001b[0m\n",
      "\n"
     ]
    }
   ],
   "source": [
    "script_processor.run(\n",
    "    inputs=[inputObject],\n",
    "    outputs=[ProcessingOutput(source='/opt/ml/processing/processed_data')],\n",
    "    wait=True,\n",
    "    job_name= \"nii-to-tfrecords-3\"\n",
    ")"
   ]
  }
 ],
 "metadata": {
  "kernelspec": {
   "display_name": "conda_amazonei_tensorflow_p36",
   "language": "python",
   "name": "conda_amazonei_tensorflow_p36"
  },
  "language_info": {
   "codemirror_mode": {
    "name": "ipython",
    "version": 3
   },
   "file_extension": ".py",
   "mimetype": "text/x-python",
   "name": "python",
   "nbconvert_exporter": "python",
   "pygments_lexer": "ipython3",
   "version": "3.6.10"
  }
 },
 "nbformat": 4,
 "nbformat_minor": 4
}
